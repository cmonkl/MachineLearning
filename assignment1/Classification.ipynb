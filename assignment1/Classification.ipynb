{
 "cells": [
  {
   "cell_type": "code",
   "execution_count": 10,
   "id": "d329de59",
   "metadata": {
    "pycharm": {
     "name": "#%%\n"
    }
   },
   "outputs": [],
   "source": [
    "import pandas as pd\n",
    "from pandas_profiling import ProfileReport\n",
    "from sklearn.pipeline import Pipeline\n",
    "from sklearn.linear_model import LogisticRegression\n",
    "from sklearn.preprocessing import StandardScaler, MinMaxScaler\n",
    "import matplotlib.pyplot as plt\n",
    "import numpy as np\n",
    "from sklearn.preprocessing import PolynomialFeatures\n",
    "from sklearn.compose import ColumnTransformer\n",
    "import warnings\n",
    "warnings.filterwarnings(\"ignore\")\n",
    "\n",
    "np.random.seed(2)"
   ]
  },
  {
   "cell_type": "markdown",
   "id": "bacba4ea",
   "metadata": {
    "pycharm": {
     "name": "#%% md\n"
    }
   },
   "source": [
    "Loading data and exploring features:"
   ]
  },
  {
   "cell_type": "code",
   "execution_count": 11,
   "id": "619f8fb4",
   "metadata": {
    "pycharm": {
     "name": "#%%\n"
    }
   },
   "outputs": [],
   "source": [
    "train_data = pd.read_csv('./stream_quality_data/train_data.csv')\n",
    "test_data = pd.read_csv('./stream_quality_data/test_data.csv')"
   ]
  },
  {
   "cell_type": "code",
   "execution_count": 12,
   "id": "279be596",
   "metadata": {
    "pycharm": {
     "name": "#%%\n"
    }
   },
   "outputs": [],
   "source": [
    "report = ProfileReport(train_data)\n",
    "#report.to_file('./clf_report.html')"
   ]
  },
  {
   "cell_type": "code",
   "execution_count": 13,
   "id": "1980aadd",
   "metadata": {
    "pycharm": {
     "name": "#%%\n"
    }
   },
   "outputs": [],
   "source": [
    "X_train, y_train = train_data.drop('stream_quality', axis=1), train_data['stream_quality']\n",
    "X_test, y_test = test_data.drop('stream_quality', axis=1), test_data['stream_quality']"
   ]
  },
  {
   "cell_type": "code",
   "execution_count": 14,
   "id": "57fe6660",
   "metadata": {
    "pycharm": {
     "name": "#%%\n"
    }
   },
   "outputs": [
    {
     "data": {
      "text/html": [
       "<div>\n",
       "<style scoped>\n",
       "    .dataframe tbody tr th:only-of-type {\n",
       "        vertical-align: middle;\n",
       "    }\n",
       "\n",
       "    .dataframe tbody tr th {\n",
       "        vertical-align: top;\n",
       "    }\n",
       "\n",
       "    .dataframe thead th {\n",
       "        text-align: right;\n",
       "    }\n",
       "</style>\n",
       "<table border=\"1\" class=\"dataframe\">\n",
       "  <thead>\n",
       "    <tr style=\"text-align: right;\">\n",
       "      <th></th>\n",
       "      <th>fps_mean</th>\n",
       "      <th>fps_std</th>\n",
       "      <th>fps_lags</th>\n",
       "      <th>rtt_mean</th>\n",
       "      <th>rtt_std</th>\n",
       "      <th>dropped_frames_mean</th>\n",
       "      <th>dropped_frames_std</th>\n",
       "      <th>dropped_frames_max</th>\n",
       "      <th>auto_bitrate_state</th>\n",
       "      <th>auto_fec_state</th>\n",
       "      <th>auto_fec_mean</th>\n",
       "      <th>stream_quality</th>\n",
       "    </tr>\n",
       "  </thead>\n",
       "  <tbody>\n",
       "    <tr>\n",
       "      <th>0</th>\n",
       "      <td>24.4</td>\n",
       "      <td>0.516398</td>\n",
       "      <td>0</td>\n",
       "      <td>91.1</td>\n",
       "      <td>6.723921</td>\n",
       "      <td>0.0</td>\n",
       "      <td>0.0</td>\n",
       "      <td>0.0</td>\n",
       "      <td>off</td>\n",
       "      <td>partial</td>\n",
       "      <td>50.0</td>\n",
       "      <td>0</td>\n",
       "    </tr>\n",
       "    <tr>\n",
       "      <th>1</th>\n",
       "      <td>28.6</td>\n",
       "      <td>2.065591</td>\n",
       "      <td>0</td>\n",
       "      <td>99.7</td>\n",
       "      <td>15.923777</td>\n",
       "      <td>0.0</td>\n",
       "      <td>0.0</td>\n",
       "      <td>0.0</td>\n",
       "      <td>off</td>\n",
       "      <td>partial</td>\n",
       "      <td>50.0</td>\n",
       "      <td>0</td>\n",
       "    </tr>\n",
       "    <tr>\n",
       "      <th>2</th>\n",
       "      <td>30.0</td>\n",
       "      <td>0.000000</td>\n",
       "      <td>0</td>\n",
       "      <td>98.1</td>\n",
       "      <td>11.798776</td>\n",
       "      <td>0.0</td>\n",
       "      <td>0.0</td>\n",
       "      <td>0.0</td>\n",
       "      <td>off</td>\n",
       "      <td>partial</td>\n",
       "      <td>50.0</td>\n",
       "      <td>0</td>\n",
       "    </tr>\n",
       "    <tr>\n",
       "      <th>3</th>\n",
       "      <td>30.3</td>\n",
       "      <td>0.948683</td>\n",
       "      <td>0</td>\n",
       "      <td>99.4</td>\n",
       "      <td>13.014522</td>\n",
       "      <td>0.0</td>\n",
       "      <td>0.0</td>\n",
       "      <td>0.0</td>\n",
       "      <td>off</td>\n",
       "      <td>partial</td>\n",
       "      <td>50.0</td>\n",
       "      <td>0</td>\n",
       "    </tr>\n",
       "    <tr>\n",
       "      <th>4</th>\n",
       "      <td>29.9</td>\n",
       "      <td>0.316228</td>\n",
       "      <td>0</td>\n",
       "      <td>123.2</td>\n",
       "      <td>62.476307</td>\n",
       "      <td>0.0</td>\n",
       "      <td>0.0</td>\n",
       "      <td>0.0</td>\n",
       "      <td>off</td>\n",
       "      <td>partial</td>\n",
       "      <td>50.0</td>\n",
       "      <td>0</td>\n",
       "    </tr>\n",
       "  </tbody>\n",
       "</table>\n",
       "</div>"
      ],
      "text/plain": [
       "   fps_mean   fps_std  fps_lags  rtt_mean    rtt_std  dropped_frames_mean  \\\n",
       "0      24.4  0.516398         0      91.1   6.723921                  0.0   \n",
       "1      28.6  2.065591         0      99.7  15.923777                  0.0   \n",
       "2      30.0  0.000000         0      98.1  11.798776                  0.0   \n",
       "3      30.3  0.948683         0      99.4  13.014522                  0.0   \n",
       "4      29.9  0.316228         0     123.2  62.476307                  0.0   \n",
       "\n",
       "   dropped_frames_std  dropped_frames_max auto_bitrate_state auto_fec_state  \\\n",
       "0                 0.0                 0.0                off        partial   \n",
       "1                 0.0                 0.0                off        partial   \n",
       "2                 0.0                 0.0                off        partial   \n",
       "3                 0.0                 0.0                off        partial   \n",
       "4                 0.0                 0.0                off        partial   \n",
       "\n",
       "   auto_fec_mean  stream_quality  \n",
       "0           50.0               0  \n",
       "1           50.0               0  \n",
       "2           50.0               0  \n",
       "3           50.0               0  \n",
       "4           50.0               0  "
      ]
     },
     "execution_count": 14,
     "metadata": {},
     "output_type": "execute_result"
    }
   ],
   "source": [
    "train_data.head()"
   ]
  },
  {
   "cell_type": "markdown",
   "id": "d7ffa4f4",
   "metadata": {
    "pycharm": {
     "name": "#%% md\n"
    }
   },
   "source": [
    "## Feature preprocessing"
   ]
  },
  {
   "cell_type": "markdown",
   "id": "571154fc",
   "metadata": {
    "pycharm": {
     "name": "#%% md\n"
    }
   },
   "source": [
    "There are categorical features that have to be encoded in order to use it in model"
   ]
  },
  {
   "cell_type": "code",
   "execution_count": 15,
   "id": "1248d408",
   "metadata": {
    "pycharm": {
     "name": "#%%\n"
    }
   },
   "outputs": [
    {
     "name": "stdout",
     "output_type": "stream",
     "text": [
      "Categorical features:  ['auto_bitrate_state', 'auto_fec_state']\n"
     ]
    }
   ],
   "source": [
    "cat_columns = train_data.columns[train_data.dtypes == 'object']\n",
    "print('Categorical features: ', cat_columns.tolist())"
   ]
  },
  {
   "cell_type": "markdown",
   "id": "e2aeeec6",
   "metadata": {},
   "source": [
    "Ordinal encoder with values 'off' having 0, values 'partial' having 1 and values 'full' having 2"
   ]
  },
  {
   "cell_type": "code",
   "execution_count": 16,
   "id": "5b163f1d",
   "metadata": {
    "pycharm": {
     "name": "#%%\n"
    }
   },
   "outputs": [],
   "source": [
    "from category_encoders import OneHotEncoder, OrdinalEncoder\n",
    "\n",
    "# mapping categories to labels\n",
    "mapping = [{'col':'auto_bitrate_state', 'mapping':{'off':0, 'partial':1, 'full':2}},\n",
    "          {'col':'auto_fec_state', 'mapping':{'off':0, 'partial':1}}]\n",
    "\n",
    "encoder = OrdinalEncoder(mapping=mapping)\n",
    "X_train = encoder.fit_transform(X_train)\n",
    "X_test = encoder.transform(X_test)"
   ]
  },
  {
   "cell_type": "markdown",
   "id": "30b25a9d",
   "metadata": {
    "pycharm": {
     "name": "#%% md\n"
    }
   },
   "source": [
    "## Feature selection"
   ]
  },
  {
   "cell_type": "code",
   "execution_count": 17,
   "id": "cc309747",
   "metadata": {
    "pycharm": {
     "name": "#%%\n"
    }
   },
   "outputs": [
    {
     "data": {
      "text/plain": [
       "<AxesSubplot:>"
      ]
     },
     "execution_count": 17,
     "metadata": {},
     "output_type": "execute_result"
    },
    {
     "data": {
      "image/png": "[encoded data removed]",
      "text/plain": [
       "<Figure size 432x288 with 2 Axes>"
      ]
     },
     "metadata": {
      "needs_background": "light"
     },
     "output_type": "display_data"
    }
   ],
   "source": [
    "import seaborn as sns\n",
    "\n",
    "sns.heatmap(X_train.assign(target=y_train).corr())"
   ]
  },
  {
   "cell_type": "markdown",
   "id": "ed2c4d92",
   "metadata": {
    "pycharm": {
     "name": "#%% md\n"
    }
   },
   "source": [
    "There is high positive correlation with fps_lags feature and negative correlation with fps_mean feature."
   ]
  },
  {
   "cell_type": "markdown",
   "id": "7844fd3a",
   "metadata": {
    "pycharm": {
     "name": "#%% md\n"
    }
   },
   "source": [
    "Automatic selection based on mutual information between features and target variable:"
   ]
  },
  {
   "cell_type": "code",
   "execution_count": 18,
   "id": "7417ff09",
   "metadata": {
    "pycharm": {
     "name": "#%%\n"
    }
   },
   "outputs": [],
   "source": [
    "scaler = StandardScaler()\n",
    "X_train_scaled = scaler.fit_transform(X_train)"
   ]
  },
  {
   "cell_type": "code",
   "execution_count": 19,
   "id": "b5d81872",
   "metadata": {
    "pycharm": {
     "name": "#%%\n"
    }
   },
   "outputs": [
    {
     "name": "stdout",
     "output_type": "stream",
     "text": [
      "Selected features with highest mutual inf:  ['fps_mean', 'fps_lags', 'rtt_mean', 'dropped_frames_mean', 'dropped_frames_std', 'dropped_frames_max', 'auto_bitrate_state', 'auto_fec_state']\n"
     ]
    }
   ],
   "source": [
    "from sklearn.feature_selection import SelectKBest\n",
    "from sklearn.feature_selection import mutual_info_classif\n",
    "\n",
    "selector = SelectKBest(mutual_info_classif, k=8)\n",
    "\n",
    "selector.fit(X_train_scaled, y_train)\n",
    "selected_feats = X_train.columns[selector.get_support()]\n",
    "print('Selected features with highest mutual inf: ', selected_feats.tolist())"
   ]
  },
  {
   "cell_type": "markdown",
   "id": "b06278c2",
   "metadata": {
    "pycharm": {
     "name": "#%% md\n"
    }
   },
   "source": [
    "Selection based on importance of feature on performance of model:"
   ]
  },
  {
   "cell_type": "code",
   "execution_count": 20,
   "id": "523ea19f",
   "metadata": {
    "pycharm": {
     "name": "#%%\n"
    }
   },
   "outputs": [
    {
     "name": "stdout",
     "output_type": "stream",
     "text": [
      "Selected_features with rfecv:  ['fps_mean', 'fps_std', 'fps_lags', 'dropped_frames_mean', 'dropped_frames_max']\n"
     ]
    }
   ],
   "source": [
    "from sklearn.model_selection import StratifiedKFold\n",
    "from sklearn.feature_selection import RFECV, RFE \n",
    "\n",
    "rfecv = RFECV(\n",
    "    estimator=LogisticRegression(),\n",
    "    step=1,\n",
    "    cv=5,\n",
    "    min_features_to_select=2\n",
    ")\n",
    "rfecv.fit(X_train_scaled, y_train)\n",
    "imp_cols = X_train.columns[rfecv.support_]\n",
    "print('Selected_features with rfecv: ',  imp_cols.tolist())"
   ]
  },
  {
   "cell_type": "markdown",
   "id": "848fd591",
   "metadata": {
    "pycharm": {
     "name": "#%% md\n"
    }
   },
   "source": [
    "## Model"
   ]
  },
  {
   "cell_type": "code",
   "execution_count": 21,
   "id": "13b1fad8",
   "metadata": {
    "pycharm": {
     "name": "#%%\n"
    }
   },
   "outputs": [],
   "source": [
    "from sklearn.metrics import accuracy_score, recall_score, precision_score, f1_score, confusion_matrix\n",
    "\n",
    "def get_clf_metrics(y_true, y_pred):\n",
    "    \"\"\"\n",
    "    Calculate classification metrics\n",
    "    :param y_true: ground truth labels\n",
    "    :param y_pred: predicted labels\n",
    "    :return: calculated metrics\n",
    "    \"\"\"\n",
    "    metrics = {'accuracy':accuracy_score(y_true, y_pred), \n",
    "              'precision':precision_score(y_true, y_pred),\n",
    "              'recall':recall_score(y_true, y_pred),\n",
    "              'f1':f1_score(y_true, y_pred)}\n",
    "    \n",
    "    return pd.Series(metrics)"
   ]
  },
  {
   "cell_type": "code",
   "execution_count": 22,
   "id": "bb1e369c",
   "metadata": {
    "pycharm": {
     "name": "#%%\n"
    }
   },
   "outputs": [],
   "source": [
    "def fit_predict(model, X_train, y_train, X_test):\n",
    "    \"\"\"\n",
    "    Function to fit model and get predictions\n",
    "    :param model: model to use\n",
    "    :param X_train: train data\n",
    "    :param y_train: target\n",
    "    :param X_test: test data\n",
    "    :return: predicted labels for train and test data\n",
    "    \"\"\"\n",
    "    model.fit(X_train, y_train)\n",
    "    y_pred_train = model.predict(X_train)\n",
    "    y_pred_test = model.predict(X_test)    \n",
    "    return y_pred_train, y_pred_test\n",
    "\n",
    "def print_metrics(y_train, y_pred_train, y_test, y_pred_test):\n",
    "    \"\"\"\n",
    "    Function to get train and test metrics\n",
    "    :param y_train: train labels\n",
    "    :param y_pred_train: predicted labels\n",
    "    :param y_test: test labels\n",
    "    :param y_pred_test: predicted test labels\n",
    "    :return: DataFrame with test and train metrics\n",
    "    \"\"\"\n",
    "    train_metrics = get_clf_metrics(y_train, y_pred_train)\n",
    "    test_metrics = get_clf_metrics(y_test, y_pred_test)\n",
    "    return pd.concat([train_metrics, test_metrics], axis=1, keys=['train', 'test'])"
   ]
  },
  {
   "cell_type": "code",
   "execution_count": 23,
   "id": "e643b260",
   "metadata": {
    "pycharm": {
     "name": "#%%\n"
    }
   },
   "outputs": [],
   "source": [
    "from sklearn.metrics import accuracy_score, recall_score, precision_score, f1_score, confusion_matrix\n",
    "\n",
    "def get_clf_metrics(y_true, y_pred):\n",
    "    \"\"\"\n",
    "    Calculate classification metrics\n",
    "    :param y_true: ground truth labels\n",
    "    :param y_pred: predicted labels\n",
    "    :return: calculated metrics\n",
    "    \"\"\"\n",
    "    metrics = {'accuracy':accuracy_score(y_true, y_pred), \n",
    "              'precision':precision_score(y_true, y_pred),\n",
    "              'recall':recall_score(y_true, y_pred),\n",
    "              'f1':f1_score(y_true, y_pred)}\n",
    "    \n",
    "    return pd.Series(metrics)"
   ]
  },
  {
   "cell_type": "markdown",
   "id": "ca8921d9",
   "metadata": {
    "pycharm": {
     "name": "#%% md\n"
    }
   },
   "source": [
    "Training simple logistic regression model:"
   ]
  },
  {
   "cell_type": "code",
   "execution_count": 40,
   "id": "7c2f718c",
   "metadata": {
    "pycharm": {
     "name": "#%%\n"
    }
   },
   "outputs": [
    {
     "data": {
      "text/html": [
       "<div>\n",
       "<style scoped>\n",
       "    .dataframe tbody tr th:only-of-type {\n",
       "        vertical-align: middle;\n",
       "    }\n",
       "\n",
       "    .dataframe tbody tr th {\n",
       "        vertical-align: top;\n",
       "    }\n",
       "\n",
       "    .dataframe thead th {\n",
       "        text-align: right;\n",
       "    }\n",
       "</style>\n",
       "<table border=\"1\" class=\"dataframe\">\n",
       "  <thead>\n",
       "    <tr style=\"text-align: right;\">\n",
       "      <th></th>\n",
       "      <th>train</th>\n",
       "      <th>test</th>\n",
       "    </tr>\n",
       "  </thead>\n",
       "  <tbody>\n",
       "    <tr>\n",
       "      <th>accuracy</th>\n",
       "      <td>0.944839</td>\n",
       "      <td>0.940923</td>\n",
       "    </tr>\n",
       "    <tr>\n",
       "      <th>precision</th>\n",
       "      <td>0.837137</td>\n",
       "      <td>0.721825</td>\n",
       "    </tr>\n",
       "    <tr>\n",
       "      <th>recall</th>\n",
       "      <td>0.241180</td>\n",
       "      <td>0.135083</td>\n",
       "    </tr>\n",
       "    <tr>\n",
       "      <th>f1</th>\n",
       "      <td>0.374474</td>\n",
       "      <td>0.227578</td>\n",
       "    </tr>\n",
       "  </tbody>\n",
       "</table>\n",
       "</div>"
      ],
      "text/plain": [
       "              train      test\n",
       "accuracy   0.944839  0.940923\n",
       "precision  0.837137  0.721825\n",
       "recall     0.241180  0.135083\n",
       "f1         0.374474  0.227578"
      ]
     },
     "execution_count": 40,
     "metadata": {},
     "output_type": "execute_result"
    }
   ],
   "source": [
    "from sklearn.model_selection import RandomizedSearchCV\n",
    "from scipy.stats import uniform\n",
    "\n",
    "logreg = Pipeline([\n",
    "    ('preprocess', StandardScaler()), \n",
    "    ('model', LogisticRegression(penalty='none'))\n",
    "])\n",
    "\n",
    "# evaluate model\n",
    "y_pred_train, y_pred_test = fit_predict(logreg, X_train[imp_cols], y_train, X_test[imp_cols])\n",
    "logreg_metrics = print_metrics(y_train, y_pred_train, y_test, y_pred_test)\n",
    "logreg_metrics"
   ]
  },
  {
   "cell_type": "markdown",
   "id": "6aebe83e",
   "metadata": {},
   "source": [
    "- Regularized models"
   ]
  },
  {
   "cell_type": "code",
   "execution_count": 33,
   "id": "c7d7de77",
   "metadata": {
    "pycharm": {
     "name": "#%%\n"
    }
   },
   "outputs": [
    {
     "name": "stdout",
     "output_type": "stream",
     "text": [
      "Best parameter for C:  0.5044986997156813\n",
      "Best  cross validation f1 score:  0.3529014659387867\n"
     ]
    },
    {
     "data": {
      "text/html": [
       "<div>\n",
       "<style scoped>\n",
       "    .dataframe tbody tr th:only-of-type {\n",
       "        vertical-align: middle;\n",
       "    }\n",
       "\n",
       "    .dataframe tbody tr th {\n",
       "        vertical-align: top;\n",
       "    }\n",
       "\n",
       "    .dataframe thead th {\n",
       "        text-align: right;\n",
       "    }\n",
       "</style>\n",
       "<table border=\"1\" class=\"dataframe\">\n",
       "  <thead>\n",
       "    <tr style=\"text-align: right;\">\n",
       "      <th></th>\n",
       "      <th>train</th>\n",
       "      <th>test</th>\n",
       "    </tr>\n",
       "  </thead>\n",
       "  <tbody>\n",
       "    <tr>\n",
       "      <th>accuracy</th>\n",
       "      <td>0.944590</td>\n",
       "      <td>0.940418</td>\n",
       "    </tr>\n",
       "    <tr>\n",
       "      <th>precision</th>\n",
       "      <td>0.841970</td>\n",
       "      <td>0.707309</td>\n",
       "    </tr>\n",
       "    <tr>\n",
       "      <th>recall</th>\n",
       "      <td>0.234677</td>\n",
       "      <td>0.128266</td>\n",
       "    </tr>\n",
       "    <tr>\n",
       "      <th>f1</th>\n",
       "      <td>0.367049</td>\n",
       "      <td>0.217152</td>\n",
       "    </tr>\n",
       "  </tbody>\n",
       "</table>\n",
       "</div>"
      ],
      "text/plain": [
       "              train      test\n",
       "accuracy   0.944590  0.940418\n",
       "precision  0.841970  0.707309\n",
       "recall     0.234677  0.128266\n",
       "f1         0.367049  0.217152"
      ]
     },
     "execution_count": 33,
     "metadata": {},
     "output_type": "execute_result"
    }
   ],
   "source": [
    "from sklearn.model_selection import RandomizedSearchCV\n",
    "from scipy.stats import loguniform\n",
    "\n",
    "# Logistic Regression with L2 regularization\n",
    "logreg_l2 = Pipeline([\n",
    "    ('preprocess', StandardScaler()), \n",
    "    ('model', LogisticRegression())\n",
    "])\n",
    "\n",
    "# tune regularization coefficient hyperparameter using cross validation\n",
    "search_tool = RandomizedSearchCV(logreg_l2, \n",
    "                                 {'model__C':loguniform(1e-5, 1)}, \n",
    "                                 scoring='f1')\n",
    "\n",
    "search_tool.fit(X_train[imp_cols], y_train)\n",
    "print(\"Best parameter for C: \", search_tool.best_params_['model__C'])\n",
    "print('Best  cross validation f1 score: ',  search_tool.best_score_)\n",
    "\n",
    "# evaluate model\n",
    "y_pred_train, y_pred_test = fit_predict(search_tool.best_estimator_, X_train[imp_cols], y_train, X_test[imp_cols])\n",
    "l2_metrics = print_metrics(y_train, y_pred_train, y_test, y_pred_test)\n",
    "l2_metrics"
   ]
  },
  {
   "cell_type": "code",
   "execution_count": 32,
   "id": "0e332c82",
   "metadata": {
    "pycharm": {
     "name": "#%%\n"
    }
   },
   "outputs": [
    {
     "name": "stdout",
     "output_type": "stream",
     "text": [
      "Best parameter for C:  0.3407895009466769\n",
      "Best  cross validation f1 score:  0.3530172277476102\n"
     ]
    },
    {
     "data": {
      "text/html": [
       "<div>\n",
       "<style scoped>\n",
       "    .dataframe tbody tr th:only-of-type {\n",
       "        vertical-align: middle;\n",
       "    }\n",
       "\n",
       "    .dataframe tbody tr th {\n",
       "        vertical-align: top;\n",
       "    }\n",
       "\n",
       "    .dataframe thead th {\n",
       "        text-align: right;\n",
       "    }\n",
       "</style>\n",
       "<table border=\"1\" class=\"dataframe\">\n",
       "  <thead>\n",
       "    <tr style=\"text-align: right;\">\n",
       "      <th></th>\n",
       "      <th>train</th>\n",
       "      <th>test</th>\n",
       "    </tr>\n",
       "  </thead>\n",
       "  <tbody>\n",
       "    <tr>\n",
       "      <th>accuracy</th>\n",
       "      <td>0.944590</td>\n",
       "      <td>0.940414</td>\n",
       "    </tr>\n",
       "    <tr>\n",
       "      <th>precision</th>\n",
       "      <td>0.841970</td>\n",
       "      <td>0.707060</td>\n",
       "    </tr>\n",
       "    <tr>\n",
       "      <th>recall</th>\n",
       "      <td>0.234677</td>\n",
       "      <td>0.128266</td>\n",
       "    </tr>\n",
       "    <tr>\n",
       "      <th>f1</th>\n",
       "      <td>0.367049</td>\n",
       "      <td>0.217140</td>\n",
       "    </tr>\n",
       "  </tbody>\n",
       "</table>\n",
       "</div>"
      ],
      "text/plain": [
       "              train      test\n",
       "accuracy   0.944590  0.940414\n",
       "precision  0.841970  0.707060\n",
       "recall     0.234677  0.128266\n",
       "f1         0.367049  0.217140"
      ]
     },
     "execution_count": 32,
     "metadata": {},
     "output_type": "execute_result"
    }
   ],
   "source": [
    "# Logistic Regression with L1 regularization\n",
    "logreg_l1 = Pipeline([\n",
    "    ('preprocess', StandardScaler()), \n",
    "    ('model', LogisticRegression(max_iter=200, penalty=\"l1\", solver=\"saga\"))\n",
    "])\n",
    "\n",
    "# tune regularization coefficient hyperparameter using cross validation\n",
    "search_tool = RandomizedSearchCV(logreg_l1, \n",
    "                                 {'model__C':loguniform(1e-5, 1)},\n",
    "                                 scoring='f1')\n",
    "search_tool.fit(X_train[imp_cols], y_train)\n",
    "print(\"Best parameter for C: \", search_tool.best_params_['model__C'])\n",
    "print('Best  cross validation f1 score: ',  search_tool.best_score_)\n",
    "\n",
    "# evaluate model\n",
    "y_pred_train, y_pred_test = fit_predict(search_tool.best_estimator_, X_train[imp_cols], y_train, X_test[imp_cols])\n",
    "l1_metrics = print_metrics(y_train, y_pred_train, y_test, y_pred_test)\n",
    "l1_metrics"
   ]
  },
  {
   "cell_type": "markdown",
   "id": "ad12bc60",
   "metadata": {},
   "source": [
    "The performance of regularized models is similar"
   ]
  },
  {
   "cell_type": "markdown",
   "id": "e4ead292",
   "metadata": {},
   "source": [
    "- Polynomial Features"
   ]
  },
  {
   "cell_type": "code",
   "execution_count": 30,
   "id": "148bccb2",
   "metadata": {
    "pycharm": {
     "name": "#%%\n"
    }
   },
   "outputs": [
    {
     "name": "stdout",
     "output_type": "stream",
     "text": [
      "Best parameter for C:  0.08494888350175075\n",
      "Best  cross validation f1 score:  0.3914040026610566\n"
     ]
    },
    {
     "data": {
      "text/html": [
       "<div>\n",
       "<style scoped>\n",
       "    .dataframe tbody tr th:only-of-type {\n",
       "        vertical-align: middle;\n",
       "    }\n",
       "\n",
       "    .dataframe tbody tr th {\n",
       "        vertical-align: top;\n",
       "    }\n",
       "\n",
       "    .dataframe thead th {\n",
       "        text-align: right;\n",
       "    }\n",
       "</style>\n",
       "<table border=\"1\" class=\"dataframe\">\n",
       "  <thead>\n",
       "    <tr style=\"text-align: right;\">\n",
       "      <th></th>\n",
       "      <th>train</th>\n",
       "      <th>test</th>\n",
       "    </tr>\n",
       "  </thead>\n",
       "  <tbody>\n",
       "    <tr>\n",
       "      <th>accuracy</th>\n",
       "      <td>0.946376</td>\n",
       "      <td>0.942425</td>\n",
       "    </tr>\n",
       "    <tr>\n",
       "      <th>precision</th>\n",
       "      <td>0.842961</td>\n",
       "      <td>0.742235</td>\n",
       "    </tr>\n",
       "    <tr>\n",
       "      <th>recall</th>\n",
       "      <td>0.266329</td>\n",
       "      <td>0.162929</td>\n",
       "    </tr>\n",
       "    <tr>\n",
       "      <th>f1</th>\n",
       "      <td>0.404772</td>\n",
       "      <td>0.267203</td>\n",
       "    </tr>\n",
       "  </tbody>\n",
       "</table>\n",
       "</div>"
      ],
      "text/plain": [
       "              train      test\n",
       "accuracy   0.946376  0.942425\n",
       "precision  0.842961  0.742235\n",
       "recall     0.266329  0.162929\n",
       "f1         0.404772  0.267203"
      ]
     },
     "execution_count": 30,
     "metadata": {},
     "output_type": "execute_result"
    }
   ],
   "source": [
    "# l2 regularized logistic regression with polynomial features\n",
    "logreg_poly = Pipeline([\n",
    "    ('poly', PolynomialFeatures(degree=3)),\n",
    "    ('preprocess', StandardScaler()), \n",
    "    ('model', LogisticRegression(max_iter=200, penalty=\"l2\"))\n",
    "])\n",
    "\n",
    "# tune regularization coefficient hyperparameter using cross validation\n",
    "search_tool = RandomizedSearchCV(logreg_poly, \n",
    "                                 {'model__C':loguniform(1e-5, 10), \n",
    "                                 'poly__interaction_only':[True, False]},\n",
    "                                 scoring='f1')\n",
    "search_tool.fit(X_train[imp_cols], y_train)\n",
    "print(\"Best parameter for C: \", search_tool.best_params_['model__C'])\n",
    "print('Best  cross validation f1 score: ',  search_tool.best_score_)\n",
    "\n",
    "# evaluate model\n",
    "y_pred_train, y_pred_test = fit_predict(search_tool.best_estimator_, X_train[imp_cols], y_train, X_test[imp_cols])\n",
    "poly_metrics = print_metrics(y_train, y_pred_train, y_test, y_pred_test)\n",
    "poly_metrics"
   ]
  },
  {
   "cell_type": "code",
   "execution_count": 62,
   "id": "f86001e3",
   "metadata": {},
   "outputs": [
    {
     "data": {
      "text/plain": [
       "Text(0.5, 1.0, 'Performance of models')"
      ]
     },
     "execution_count": 62,
     "metadata": {},
     "output_type": "execute_result"
    },
    {
     "data": {
      "image/png": "[encoded data removed]",
      "text/plain": [
       "<Figure size 432x288 with 1 Axes>"
      ]
     },
     "metadata": {
      "needs_background": "light"
     },
     "output_type": "display_data"
    }
   ],
   "source": [
    "metric = 'f1'\n",
    "metrics_test = {'log_regr':logreg_metrics['test'][metric], \n",
    "               'l1':l1_metrics['test'][metric], \n",
    "               'l2':l2_metrics['test'][metric], \n",
    "               'poly':poly_metrics['test'][metric]}\n",
    "metrics_train = {'log_regr':logreg_metrics['train'][metric], \n",
    "               'l1':l1_metrics['train'][metric], \n",
    "               'l2':l2_metrics['train'][metric], \n",
    "               'poly':poly_metrics['train'][metric]}\n",
    "metrics = pd.DataFrame([metrics_test, metrics_train], index=['test_score', 'train_score'])\n",
    "metrics.T.plot.bar()\n",
    "plt.title('Performance of models')\n",
    "plt.ylabel('F1')\n",
    "#plt.savefig('clf_f1.eps', format='eps')"
   ]
  },
  {
   "cell_type": "markdown",
   "id": "75d4e73d",
   "metadata": {
    "pycharm": {
     "name": "#%% md\n"
    }
   },
   "source": [
    "## Outlier detection"
   ]
  },
  {
   "cell_type": "markdown",
   "id": "8770f374",
   "metadata": {},
   "source": [
    "Use interquartile range method to detect outliers:"
   ]
  },
  {
   "cell_type": "code",
   "execution_count": 41,
   "id": "76ef89a4",
   "metadata": {
    "pycharm": {
     "name": "#%%\n"
    }
   },
   "outputs": [
    {
     "name": "stdout",
     "output_type": "stream",
     "text": [
      "Percentage of outliers:  0.12980234743169716\n"
     ]
    }
   ],
   "source": [
    "# compute interquartile range\n",
    "iqr = X_train[imp_cols].quantile(0.75) - X_train[imp_cols].quantile(0.25)\n",
    "# upper bound for distribution\n",
    "up_bound = X_train[imp_cols].quantile(0.75) + iqr * 1.5\n",
    "# lower bound for distribution\n",
    "low_bound = X_train[imp_cols].quantile(0.25) - iqr * 1.5\n",
    "# select outliers which are higher than upper bound or lower than lower bound\n",
    "outliers_mask = ((X_train[imp_cols] > up_bound) | (X_train[imp_cols] < low_bound)).sum(axis=1) > 0\n",
    "X_train_clean = X_train[~outliers_mask][imp_cols].copy()\n",
    "y_train_clean = y_train[~outliers_mask].copy()\n",
    "\n",
    "print('Percentage of outliers: ', 1 - X_train_clean.shape[0] / X_train.shape[0])"
   ]
  },
  {
   "cell_type": "code",
   "execution_count": 42,
   "id": "aa6bb55d",
   "metadata": {
    "pycharm": {
     "name": "#%%\n"
    }
   },
   "outputs": [
    {
     "name": "stdout",
     "output_type": "stream",
     "text": [
      "Best parameter for C:  0.0006251840501025531\n",
      "Best  cross validation f1 score:  0.0\n"
     ]
    },
    {
     "data": {
      "text/html": [
       "<div>\n",
       "<style scoped>\n",
       "    .dataframe tbody tr th:only-of-type {\n",
       "        vertical-align: middle;\n",
       "    }\n",
       "\n",
       "    .dataframe tbody tr th {\n",
       "        vertical-align: top;\n",
       "    }\n",
       "\n",
       "    .dataframe thead th {\n",
       "        text-align: right;\n",
       "    }\n",
       "</style>\n",
       "<table border=\"1\" class=\"dataframe\">\n",
       "  <thead>\n",
       "    <tr style=\"text-align: right;\">\n",
       "      <th></th>\n",
       "      <th>train</th>\n",
       "      <th>test</th>\n",
       "    </tr>\n",
       "  </thead>\n",
       "  <tbody>\n",
       "    <tr>\n",
       "      <th>accuracy</th>\n",
       "      <td>0.964726</td>\n",
       "      <td>0.935574</td>\n",
       "    </tr>\n",
       "    <tr>\n",
       "      <th>precision</th>\n",
       "      <td>0.000000</td>\n",
       "      <td>0.000000</td>\n",
       "    </tr>\n",
       "    <tr>\n",
       "      <th>recall</th>\n",
       "      <td>0.000000</td>\n",
       "      <td>0.000000</td>\n",
       "    </tr>\n",
       "    <tr>\n",
       "      <th>f1</th>\n",
       "      <td>0.000000</td>\n",
       "      <td>0.000000</td>\n",
       "    </tr>\n",
       "  </tbody>\n",
       "</table>\n",
       "</div>"
      ],
      "text/plain": [
       "              train      test\n",
       "accuracy   0.964726  0.935574\n",
       "precision  0.000000  0.000000\n",
       "recall     0.000000  0.000000\n",
       "f1         0.000000  0.000000"
      ]
     },
     "execution_count": 42,
     "metadata": {},
     "output_type": "execute_result"
    }
   ],
   "source": [
    "search_tool.fit(X_train_clean, y_train_clean)\n",
    "logreg_poly['model'].C = search_tool.best_params_['model__C']\n",
    "print(\"Best parameter for C: \", search_tool.best_params_['model__C'])\n",
    "print('Best  cross validation f1 score: ',  search_tool.best_score_)\n",
    "\n",
    "y_pred_train, y_pred_test = fit_predict(logreg_poly, X_train_clean, y_train_clean, X_test[imp_cols])\n",
    "print_metrics(y_train_clean, y_pred_train, y_test, y_pred_test)"
   ]
  },
  {
   "cell_type": "markdown",
   "id": "1fe3be03",
   "metadata": {
    "pycharm": {
     "name": "#%% md\n"
    }
   },
   "source": [
    "Detecting outliers with interquantile range is not suitable in this case. There are many informative points dropped leading to poor performance. Perhaps the distribution of these variables originally has high variance"
   ]
  },
  {
   "cell_type": "markdown",
   "id": "e7356fa3",
   "metadata": {},
   "source": [
    "As univariate methods did not show improvement in performance, multivariate methods, such as density based outlier detection can be used:"
   ]
  },
  {
   "cell_type": "code",
   "execution_count": 43,
   "id": "557b1a4f",
   "metadata": {
    "pycharm": {
     "name": "#%%\n"
    }
   },
   "outputs": [
    {
     "name": "stdout",
     "output_type": "stream",
     "text": [
      "Percentage of outliers:  0.03949853900416162\n"
     ]
    }
   ],
   "source": [
    "from sklearn.neighbors import LocalOutlierFactor\n",
    "\n",
    "lof = LocalOutlierFactor()\n",
    "yhat = lof.fit_predict(X_train)\n",
    "outliers_mask = yhat == -1\n",
    "X_train_clean = X_train[~outliers_mask][imp_cols]\n",
    "y_train_clean = y_train[~outliers_mask]\n",
    "\n",
    "vals, counts = np.unique(yhat, return_counts=True)\n",
    "print('Percentage of outliers: ', counts[0] / train_data.shape[0])"
   ]
  },
  {
   "cell_type": "code",
   "execution_count": 45,
   "id": "bff539ad",
   "metadata": {
    "pycharm": {
     "name": "#%%\n"
    }
   },
   "outputs": [
    {
     "name": "stdout",
     "output_type": "stream",
     "text": [
      "Best parameter for C:  0.19059321019880304\n",
      "Best  cross validation f1 score:  0.3434901051291425\n"
     ]
    },
    {
     "data": {
      "text/html": [
       "<div>\n",
       "<style scoped>\n",
       "    .dataframe tbody tr th:only-of-type {\n",
       "        vertical-align: middle;\n",
       "    }\n",
       "\n",
       "    .dataframe tbody tr th {\n",
       "        vertical-align: top;\n",
       "    }\n",
       "\n",
       "    .dataframe thead th {\n",
       "        text-align: right;\n",
       "    }\n",
       "</style>\n",
       "<table border=\"1\" class=\"dataframe\">\n",
       "  <thead>\n",
       "    <tr style=\"text-align: right;\">\n",
       "      <th></th>\n",
       "      <th>train</th>\n",
       "      <th>test</th>\n",
       "    </tr>\n",
       "  </thead>\n",
       "  <tbody>\n",
       "    <tr>\n",
       "      <th>accuracy</th>\n",
       "      <td>0.947948</td>\n",
       "      <td>0.942359</td>\n",
       "    </tr>\n",
       "    <tr>\n",
       "      <th>precision</th>\n",
       "      <td>0.829399</td>\n",
       "      <td>0.723439</td>\n",
       "    </tr>\n",
       "    <tr>\n",
       "      <th>recall</th>\n",
       "      <td>0.260447</td>\n",
       "      <td>0.170511</td>\n",
       "    </tr>\n",
       "    <tr>\n",
       "      <th>f1</th>\n",
       "      <td>0.396413</td>\n",
       "      <td>0.275976</td>\n",
       "    </tr>\n",
       "  </tbody>\n",
       "</table>\n",
       "</div>"
      ],
      "text/plain": [
       "              train      test\n",
       "accuracy   0.947948  0.942359\n",
       "precision  0.829399  0.723439\n",
       "recall     0.260447  0.170511\n",
       "f1         0.396413  0.275976"
      ]
     },
     "execution_count": 45,
     "metadata": {},
     "output_type": "execute_result"
    }
   ],
   "source": [
    "search_tool.fit(X_train_clean, y_train_clean)\n",
    "logreg_poly['model'].C = search_tool.best_params_['model__C']\n",
    "print(\"Best parameter for C: \", search_tool.best_params_['model__C'])\n",
    "print('Best  cross validation f1 score: ',  search_tool.best_score_)\n",
    "\n",
    "y_pred_train, y_pred_test = fit_predict(logreg_poly, X_train_clean, y_train_clean, X_test[imp_cols])\n",
    "print_metrics(y_train_clean, y_pred_train, y_test, y_pred_test)"
   ]
  },
  {
   "cell_type": "markdown",
   "id": "0fbe532e",
   "metadata": {
    "pycharm": {
     "name": "#%% md\n"
    }
   },
   "source": [
    "The metrics show improvement of performance on data without outliers"
   ]
  },
  {
   "cell_type": "markdown",
   "id": "02d4935f",
   "metadata": {
    "pycharm": {
     "name": "#%% md\n"
    }
   },
   "source": [
    "## Class imbalance"
   ]
  },
  {
   "cell_type": "markdown",
   "id": "fdaf4051",
   "metadata": {
    "pycharm": {
     "name": "#%% md\n"
    }
   },
   "source": [
    "The target labels are highly imbalanced:"
   ]
  },
  {
   "cell_type": "code",
   "execution_count": 46,
   "id": "ebfaa15e",
   "metadata": {
    "pycharm": {
     "name": "#%%\n"
    }
   },
   "outputs": [
    {
     "name": "stdout",
     "output_type": "stream",
     "text": [
      "Class distribution: \n",
      "Class 1: 0.068460\n",
      "Class 0: 0.931540\n"
     ]
    }
   ],
   "source": [
    "print('Class distribution: ')\n",
    "print(f'Class 1: {(y_train == 1).sum() / (y_train).count():f}')\n",
    "print(f'Class 0: {(y_train == 0).sum() / (y_train).count():f}')"
   ]
  },
  {
   "cell_type": "markdown",
   "id": "643f7f6c",
   "metadata": {
    "pycharm": {
     "name": "#%% md\n"
    }
   },
   "source": [
    "Perform balancing of data by adding random observations from minority class"
   ]
  },
  {
   "cell_type": "code",
   "execution_count": 55,
   "id": "9f60c8fa",
   "metadata": {
    "pycharm": {
     "name": "#%%\n"
    }
   },
   "outputs": [
    {
     "name": "stdout",
     "output_type": "stream",
     "text": [
      "Best parameter for C:  1.8952483362980919\n",
      "Best parameter for sampling:  0.1636916813581414\n",
      "Best  cross validation f1 score:  0.44591707253682344\n"
     ]
    },
    {
     "data": {
      "text/html": [
       "<div>\n",
       "<style scoped>\n",
       "    .dataframe tbody tr th:only-of-type {\n",
       "        vertical-align: middle;\n",
       "    }\n",
       "\n",
       "    .dataframe tbody tr th {\n",
       "        vertical-align: top;\n",
       "    }\n",
       "\n",
       "    .dataframe thead th {\n",
       "        text-align: right;\n",
       "    }\n",
       "</style>\n",
       "<table border=\"1\" class=\"dataframe\">\n",
       "  <thead>\n",
       "    <tr style=\"text-align: right;\">\n",
       "      <th></th>\n",
       "      <th>train</th>\n",
       "      <th>test</th>\n",
       "    </tr>\n",
       "  </thead>\n",
       "  <tbody>\n",
       "    <tr>\n",
       "      <th>accuracy</th>\n",
       "      <td>0.944826</td>\n",
       "      <td>0.940754</td>\n",
       "    </tr>\n",
       "    <tr>\n",
       "      <th>precision</th>\n",
       "      <td>0.644674</td>\n",
       "      <td>0.582808</td>\n",
       "    </tr>\n",
       "    <tr>\n",
       "      <th>recall</th>\n",
       "      <td>0.354949</td>\n",
       "      <td>0.282974</td>\n",
       "    </tr>\n",
       "    <tr>\n",
       "      <th>f1</th>\n",
       "      <td>0.457826</td>\n",
       "      <td>0.380973</td>\n",
       "    </tr>\n",
       "  </tbody>\n",
       "</table>\n",
       "</div>"
      ],
      "text/plain": [
       "              train      test\n",
       "accuracy   0.944826  0.940754\n",
       "precision  0.644674  0.582808\n",
       "recall     0.354949  0.282974\n",
       "f1         0.457826  0.380973"
      ]
     },
     "execution_count": 55,
     "metadata": {},
     "output_type": "execute_result"
    }
   ],
   "source": [
    "from imblearn.pipeline import Pipeline as PipelineIm\n",
    "\n",
    "logreg_over = PipelineIm([\n",
    "    ('over', RandomOverSampler()),\n",
    "    ('poly', PolynomialFeatures(degree=3)),\n",
    "    ('preprocess', StandardScaler()),\n",
    "    ('model', LogisticRegression(max_iter=200, penalty=\"l2\"))\n",
    "])\n",
    "\n",
    "search_tool = RandomizedSearchCV(logreg_over, {'model__C':loguniform(1e-5, 10), \n",
    "                                               'over__sampling_strategy':uniform(loc=0.1, scale=1)},\n",
    "                                 scoring='f1')\n",
    "search_tool.fit(X_train_clean, y_train_clean)\n",
    "print(\"Best parameter for C: \", search_tool.best_params_['model__C'])\n",
    "print(\"Best parameter for sampling: \", search_tool.best_params_['over__sampling_strategy'])\n",
    "print(\"Best  cross validation f1 score: \",  search_tool.best_score_)\n",
    "\n",
    "y_pred_train, y_pred_test = fit_predict(search_tool.best_estimator_, X_train_clean, y_train_clean, X_test[imp_cols])\n",
    "oversample_metrics = print_metrics(y_train_clean, y_pred_train, y_test, y_pred_test)\n",
    "oversample_metrics"
   ]
  },
  {
   "cell_type": "markdown",
   "id": "7f13dc5e",
   "metadata": {
    "pycharm": {
     "name": "#%% md\n"
    }
   },
   "source": [
    "The performance of the model has been improved"
   ]
  },
  {
   "cell_type": "markdown",
   "id": "acdde3db",
   "metadata": {},
   "source": [
    "New class distribution:"
   ]
  },
  {
   "cell_type": "code",
   "execution_count": 52,
   "id": "a10a257b",
   "metadata": {},
   "outputs": [
    {
     "name": "stdout",
     "output_type": "stream",
     "text": [
      "Class distribution: \n",
      "Class 1: 0.223872\n",
      "Class 0: 0.776128\n"
     ]
    }
   ],
   "source": [
    "_, y_under = logreg_over[:1].fit_resample(X_train, y_train)\n",
    "print('Class distribution: ')\n",
    "print(f'Class 1: {(y_under == 1).sum() / (y_under).count():f}')\n",
    "print(f'Class 0: {(y_under == 0).sum() / (y_under).count():f}')"
   ]
  },
  {
   "cell_type": "markdown",
   "id": "1f3a3ed9",
   "metadata": {
    "pycharm": {
     "name": "#%% md\n"
    }
   },
   "source": [
    "Handling imbalanced data by randomly undersampling the majority class:"
   ]
  },
  {
   "cell_type": "code",
   "execution_count": 58,
   "id": "e60fb578",
   "metadata": {
    "pycharm": {
     "name": "#%%\n"
    }
   },
   "outputs": [
    {
     "name": "stdout",
     "output_type": "stream",
     "text": [
      "Best parameter for C:  7.231703697030345\n",
      "Best parameter for sampling:  0.2508043786486307\n",
      "Best  cross validation f1 score:  0.4510064033352559\n"
     ]
    },
    {
     "data": {
      "text/html": [
       "<div>\n",
       "<style scoped>\n",
       "    .dataframe tbody tr th:only-of-type {\n",
       "        vertical-align: middle;\n",
       "    }\n",
       "\n",
       "    .dataframe tbody tr th {\n",
       "        vertical-align: top;\n",
       "    }\n",
       "\n",
       "    .dataframe thead th {\n",
       "        text-align: right;\n",
       "    }\n",
       "</style>\n",
       "<table border=\"1\" class=\"dataframe\">\n",
       "  <thead>\n",
       "    <tr style=\"text-align: right;\">\n",
       "      <th></th>\n",
       "      <th>train</th>\n",
       "      <th>test</th>\n",
       "    </tr>\n",
       "  </thead>\n",
       "  <tbody>\n",
       "    <tr>\n",
       "      <th>accuracy</th>\n",
       "      <td>0.937354</td>\n",
       "      <td>0.933981</td>\n",
       "    </tr>\n",
       "    <tr>\n",
       "      <th>precision</th>\n",
       "      <td>0.529594</td>\n",
       "      <td>0.483024</td>\n",
       "    </tr>\n",
       "    <tr>\n",
       "      <th>recall</th>\n",
       "      <td>0.406727</td>\n",
       "      <td>0.351727</td>\n",
       "    </tr>\n",
       "    <tr>\n",
       "      <th>f1</th>\n",
       "      <td>0.460099</td>\n",
       "      <td>0.407050</td>\n",
       "    </tr>\n",
       "  </tbody>\n",
       "</table>\n",
       "</div>"
      ],
      "text/plain": [
       "              train      test\n",
       "accuracy   0.937354  0.933981\n",
       "precision  0.529594  0.483024\n",
       "recall     0.406727  0.351727\n",
       "f1         0.460099  0.407050"
      ]
     },
     "execution_count": 58,
     "metadata": {},
     "output_type": "execute_result"
    }
   ],
   "source": [
    "logreg_under = PipelineIm([\n",
    "    ('over', RandomOverSampler()),\n",
    "    ('poly', PolynomialFeatures(degree=3)),\n",
    "    ('preprocess', StandardScaler()),\n",
    "    ('model', LogisticRegression(max_iter=200, penalty=\"l2\"))\n",
    "])\n",
    "\n",
    "search_tool = RandomizedSearchCV(logreg_under, {'model__C':loguniform(1e-5, 10), \n",
    "                                               'over__sampling_strategy':uniform(loc=0.1, scale=1)},\n",
    "                                 scoring='f1')\n",
    "search_tool.fit(X_train_clean, y_train_clean)\n",
    "print(\"Best parameter for C: \", search_tool.best_params_['model__C'])\n",
    "print(\"Best parameter for sampling: \", search_tool.best_params_['over__sampling_strategy'])\n",
    "print(\"Best  cross validation f1 score: \",  search_tool.best_score_)\n",
    "\n",
    "y_pred_train, y_pred_test = fit_predict(search_tool.best_estimator_, \n",
    "                                        X_train_clean, y_train_clean, X_test[imp_cols])\n",
    "undersample_metrics = print_metrics(y_train_clean, y_pred_train, y_test, y_pred_test)\n",
    "undersample_metrics"
   ]
  },
  {
   "cell_type": "markdown",
   "id": "46febc4e",
   "metadata": {},
   "source": [
    "New class distribution:"
   ]
  },
  {
   "cell_type": "code",
   "execution_count": 51,
   "id": "7bbb8067",
   "metadata": {
    "pycharm": {
     "name": "#%%\n"
    }
   },
   "outputs": [
    {
     "name": "stdout",
     "output_type": "stream",
     "text": [
      "Class distribution: \n",
      "Class 1: 0.319577\n",
      "Class 0: 0.680423\n"
     ]
    }
   ],
   "source": [
    "_, y_over = logreg_under[:1].fit_resample(X_train, y_train)\n",
    "print('Class distribution: ')\n",
    "print(f'Class 1: {(y_over == 1).sum() / (y_over).count():f}')\n",
    "print(f'Class 0: {(y_over == 0).sum() / (y_over).count():f}')"
   ]
  },
  {
   "cell_type": "code",
   "execution_count": 63,
   "id": "372194ee",
   "metadata": {
    "pycharm": {
     "name": "#%%\n"
    }
   },
   "outputs": [
    {
     "data": {
      "text/plain": [
       "Text(0, 0.5, 'F1')"
      ]
     },
     "execution_count": 63,
     "metadata": {},
     "output_type": "execute_result"
    },
    {
     "data": {
      "image/png": "[encoded data removed]",
      "text/plain": [
       "<Figure size 432x288 with 1 Axes>"
      ]
     },
     "metadata": {
      "needs_background": "light"
     },
     "output_type": "display_data"
    }
   ],
   "source": [
    "metric = 'f1'\n",
    "metrics_test = {'base':logreg_metrics['test'][metric], \n",
    "               'over':oversample_metrics['test'][metric], \n",
    "               'under':undersample_metrics['test'][metric]}\n",
    "metrics_train = {'base':logreg_metrics['train'][metric], \n",
    "               'over':oversample_metrics['train'][metric], \n",
    "               'under':undersample_metrics['train'][metric]}\n",
    "\n",
    "metrics = pd.DataFrame([metrics_test, metrics_train], index=['test_score', 'train_score'])\n",
    "metrics.T.plot.bar()\n",
    "plt.title('Performance of model on sampled data')\n",
    "plt.ylabel('F1')\n",
    "#plt.savefig('imb.eps', format='eps')"
   ]
  },
  {
   "cell_type": "code",
   "execution_count": null,
   "id": "fc489de8",
   "metadata": {},
   "outputs": [],
   "source": []
  }
 ],
 "metadata": {
  "kernelspec": {
   "display_name": "Python 3 (ipykernel)",
   "language": "python",
   "name": "python3"
  },
  "language_info": {
   "codemirror_mode": {
    "name": "ipython",
    "version": 3
   },
   "file_extension": ".py",
   "mimetype": "text/x-python",
   "name": "python",
   "nbconvert_exporter": "python",
   "pygments_lexer": "ipython3",
   "version": "3.10.4"
  }
 },
 "nbformat": 4,
 "nbformat_minor": 5
}
